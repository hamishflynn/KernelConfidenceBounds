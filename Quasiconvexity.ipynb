{
 "cells": [
  {
   "cell_type": "code",
   "execution_count": 6,
   "id": "7caf268a",
   "metadata": {},
   "outputs": [],
   "source": [
    "import math\n",
    "import numpy as np\n",
    "import matplotlib.pyplot as plt\n",
    "import matplotlib.pylab as pylab\n",
    "import kernels as ker"
   ]
  },
  {
   "cell_type": "code",
   "execution_count": 11,
   "id": "26f498fd",
   "metadata": {},
   "outputs": [],
   "source": [
    "params = {'legend.fontsize': 12,\n",
    "         'axes.labelsize': 10,\n",
    "         'axes.titlesize': 12,\n",
    "         'xtick.labelsize': 10,\n",
    "         'ytick.labelsize': 10}\n",
    "pylab.rcParams.update(params)"
   ]
  },
  {
   "cell_type": "code",
   "execution_count": 3,
   "id": "7e6fdc67",
   "metadata": {},
   "outputs": [],
   "source": [
    "class AlphaKernelRidge:\n",
    "    \n",
    "    def __init__(self, kernel, sigma=1.0, c=1.0, alpha=1.0, B=1.0, delta=0.01):\n",
    "        self.kernel = kernel\n",
    "        self.sigma = sigma\n",
    "        self.c = c\n",
    "        self.alpha = alpha\n",
    "        self.B = B\n",
    "        self.delta = delta\n",
    "    \n",
    "    def fit(self, x, y):\n",
    "        alpha = self.sigma**2/self.c\n",
    "        self.x = x\n",
    "        self.y = y\n",
    "        self.k_nn = self.kernel(x, x)\n",
    "        self.kinv = np.linalg.inv(self.k_nn + self.alpha*np.eye(n))\n",
    "        kinv_c = np.linalg.inv(self.k_nn + alpha*np.eye(n))\n",
    "        logdet = np.linalg.slogdet(self.k_nn/alpha + np.eye(n))[1]\n",
    "        quad_a = self.alpha*np.dot(y.reshape(-1), np.dot(self.kinv, y.reshape(-1)))\n",
    "        quad_c = alpha*np.dot(y.reshape(-1), np.dot(kinv_c, y.reshape(-1)))\n",
    "        R_sq = self.sigma**2*logdet + 2*self.sigma**2*np.log(1/self.delta) + self.alpha*self.B**2 + \\\n",
    "        quad_c - quad_a\n",
    "        self.R = np.sqrt(R_sq)\n",
    "    \n",
    "    def predict(self, x):\n",
    "        k = self.kernel(x, self.x)\n",
    "        mid = np.matmul(k, np.matmul(self.kinv, self.y))\n",
    "        sigma = np.diag(self.kernel(x, x)).reshape(mid.shape) - \\\n",
    "        np.diag(np.matmul(k, np.matmul(self.kinv, k.T))).reshape(mid.shape)\n",
    "        lcb = mid - (self.R/math.sqrt(self.alpha))*np.sqrt(sigma)\n",
    "        ucb = mid + (self.R/math.sqrt(self.alpha))*np.sqrt(sigma)\n",
    "        return mid, lcb, ucb"
   ]
  },
  {
   "cell_type": "code",
   "execution_count": 20,
   "id": "49ca5d65",
   "metadata": {},
   "outputs": [],
   "source": [
    "kernel = ker.Matern52Kernel(0.5)\n",
    "\n",
    "n = 10\n",
    "d = 1\n",
    "m = 10\n",
    "B = 10.0\n",
    "sigma = 0.1\n",
    "c = 1.0\n",
    "delta = 0.01\n",
    "\n",
    "a = -1.0\n",
    "b = 1.0\n",
    "\n",
    "runs = 3\n",
    "\n",
    "alpha_0 = 1e-4\n",
    "alpha_T = 2.0\n",
    "grid_size = 200\n",
    "base = math.exp((math.log(alpha_T) - math.log(alpha_0))/(grid_size-1))\n",
    "alphas = alpha_0*base**np.arange(0, grid_size)\n",
    "\n",
    "ucbs = np.zeros((runs, grid_size))\n",
    "for i in range(runs):\n",
    "    func = ker.RKHSFunc(kernel, a, b, d, m, B)\n",
    "    x = np.random.uniform(a, b, (n, 1))\n",
    "    y = func(x) + np.random.normal(0.0, sigma, (n, 1))\n",
    "    x_test = np.random.uniform(a, b, (1,1))\n",
    "    for j in range(alphas.shape[0]):\n",
    "        model = AlphaKernelRidge(kernel, sigma, c, alphas[j], B, delta)\n",
    "        model.fit(x, y)\n",
    "        y_hat, lcb, ucb = model.predict(x_test)\n",
    "        ucbs[i][j] = ucb[0][0]"
   ]
  },
  {
   "cell_type": "code",
   "execution_count": 23,
   "id": "46a64181",
   "metadata": {},
   "outputs": [
    {
     "data": {
      "image/png": "[encoded data removed]",
      "text/plain": [
       "<Figure size 1080x288 with 3 Axes>"
      ]
     },
     "metadata": {
      "needs_background": "light"
     },
     "output_type": "display_data"
    }
   ],
   "source": [
    "fig, ax = plt.subplots(figsize=(15,4), nrows=1, ncols=runs)\n",
    "for i in range(runs):\n",
    "    ax[i].plot(alphas, ucbs[i])\n",
    "    ax[i].set_xlim([-0.05, 2.0])\n",
    "    ax[i].set_xlabel(r'$\\alpha$')\n",
    "    ax[i].set_ylabel('UCB')\n",
    "plt.savefig(\"figures/quasiconvex.pdf\")\n",
    "plt.show()"
   ]
  }
 ],
 "metadata": {
  "kernelspec": {
   "display_name": "Python 3",
   "language": "python",
   "name": "python3"
  },
  "language_info": {
   "codemirror_mode": {
    "name": "ipython",
    "version": 3
   },
   "file_extension": ".py",
   "mimetype": "text/x-python",
   "name": "python",
   "nbconvert_exporter": "python",
   "pygments_lexer": "ipython3",
   "version": "3.8.10"
  }
 },
 "nbformat": 4,
 "nbformat_minor": 5
}
